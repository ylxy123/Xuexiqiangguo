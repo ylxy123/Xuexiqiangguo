{
 "cells": [
  {
   "cell_type": "code",
   "execution_count": 2,
   "metadata": {},
   "outputs": [],
   "source": [
    "import numpy as np\n",
    "import requests\n",
    "from bs4 import BeautifulSoup\n",
    "from urllib.request import quote\n",
    "from urllib import parse"
   ]
  },
  {
   "cell_type": "code",
   "execution_count": 5,
   "metadata": {},
   "outputs": [
    {
     "name": "stdout",
     "output_type": "stream",
     "text": [
      "请输入您要查找的题目：中法合拍片\n",
      "\n",
      "匹配题目个数： 1 \n",
      "\n"
     ]
    }
   ],
   "source": [
    "text = input(\"请输入您要查找的题目：\")\n",
    "print()\n",
    "url_text = quote(text)\n",
    "rsp = requests.get('https://qiangguoshuo.com/search.php?q={}'.format(url_text))\n",
    "bs = BeautifulSoup(rsp.text,'html.parser')\n",
    "data_len = len(list(list(bs.find_all(class_='list'))[0]))\n",
    "print(\"匹配题目个数：\",data_len, '\\n')\n",
    "j = 1\n",
    "for i in range(data_len):\n",
    "    if i%2 != 0:\n",
    "        print(str(j)+'、'+list(list(bs.find_all(class_='list'))[0])[i].text.split(' ')[-1])\n",
    "        j += 1\n"
   ]
  },
  {
   "cell_type": "code",
   "execution_count": null,
   "metadata": {},
   "outputs": [],
   "source": []
  }
 ],
 "metadata": {
  "kernelspec": {
   "display_name": "Python 3",
   "language": "python",
   "name": "python3"
  },
  "language_info": {
   "codemirror_mode": {
    "name": "ipython",
    "version": 3
   },
   "file_extension": ".py",
   "mimetype": "text/x-python",
   "name": "python",
   "nbconvert_exporter": "python",
   "pygments_lexer": "ipython3",
   "version": "3.7.3"
  },
  "toc": {
   "base_numbering": 1,
   "nav_menu": {},
   "number_sections": true,
   "sideBar": true,
   "skip_h1_title": false,
   "title_cell": "Table of Contents",
   "title_sidebar": "Contents",
   "toc_cell": false,
   "toc_position": {},
   "toc_section_display": true,
   "toc_window_display": false
  }
 },
 "nbformat": 4,
 "nbformat_minor": 2
}
