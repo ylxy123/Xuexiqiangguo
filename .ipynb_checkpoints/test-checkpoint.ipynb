{
 "cells": [
  {
   "cell_type": "code",
   "execution_count": 16,
   "metadata": {},
   "outputs": [],
   "source": [
    "import numpy as np\n",
    "import json\n",
    "import requests\n",
    "from bs4 import BeautifulSoup\n",
    "from urllib.request import quote\n",
    "from urllib import parse"
   ]
  },
  {
   "cell_type": "code",
   "execution_count": 76,
   "metadata": {},
   "outputs": [
    {
     "name": "stdout",
     "output_type": "stream",
     "text": [
      "请输入您要查找的题目：宪法\n",
      "\n",
      "匹配题目个数： 41 \n",
      "\n",
      "1、我国宪法规定，国家通过普及理想教育、道德教育、文化教育、纪律和法制教育，通过在城乡不同范围的群众中制定和执行各种守则、公约，加强社会主义（精神文明）的建设。\n",
      "\n",
      "2、我国宪法规定，中华人民共和国的国家机构实行（民主集中制）的原则。\n",
      "\n",
      "3、我国宪法规定，社会主义公有制消灭人剥削人的制度，实行（各尽所能、按劳分配）的原则。\n",
      "\n",
      "4、我国宪法规定，全国人民代表大会由省、自治区、直辖市、（特别行政区）和军队选出的代表组成。\n",
      "\n",
      "5、党的（十八届四中全会）作出了全面推进依法治国的顶层设计，制定了路线图、施工图，在我国社会主义法治史上具有里程碑意义。来源：《习近平新时代中国特色社会主义思想学习纲要》（学习出版社、人民出版社2019年\n",
      "\n",
      "6、用人单位与劳动者建立劳动关系，（应当）订立书面劳动合同。\n",
      "\n",
      "7、职工连续工作满（12）个月以上的，享受带薪年休假。\n",
      "\n",
      "8、中华人民共和国国旗、国徽、国歌，是中华人民共和国的象征和标志，一切（公民和组织）都应尊重和爱护国旗、国徽、国歌，维护国旗、国徽、国歌的尊严。\n",
      "\n",
      "9、关于刑事案件的新闻报道，下列说法中错误的是（媒体对正在审理的案件可以发表评论，而且评论的内容和范围不受任何限制，包括可以评论法官本人）。\n",
      "\n",
      "10、中华人民共和国公民对于任何国家机关和国家工作人员，有提出（批评和建议）的权利。\n",
      "\n",
      "11、进行图片报道时，关于尊重被拍摄者的人格，下列说法中正确的是（拍摄遭遇灾难或不幸的人及犯罪受害者时，保持同情与谨慎）。\n",
      "\n",
      "12、保障公民使用网络的权利，就是保护用户上传的一切言论均不受阻碍和侵犯。（错误）\n",
      "\n",
      "13、关于网络新闻管理的第一个法规是国务院新闻办公室和信息产业部于2000年11月6日颁布的（《互联网站从事登载新闻业务管理暂行规定》）。\n",
      "\n",
      "14、《中华人民共和国国家通用语言文字法》所称的国家通用语言文字是（普通话和规范汉字）。\n",
      "\n",
      "15、用人单位与劳动者建立劳动关系，（应当）订立书面劳动合同。\n",
      "\n",
      "16、国家通用语言文字以（《汉语拼音方案》）作为拼写和注音工具。\n",
      "\n",
      "17、2014年12月20日，习近平总书记在庆祝澳门回归祖国十五周年大会暨澳门特别行政区第四届政府就职典礼上指出，人类社会发展的事实证明（依法治理）是最可靠、最稳定的治理。要善于运用法治思维和法治方式进行治\n",
      "\n",
      "18、2014年9月5日，习近平总书记在庆祝全国人民代表大会成立（60）周年大会上的讲话指出，实践充分证明，人民代表大会制度是符合中国国情和实际、体现社会主义国家性质、保证人民当家做主、保障实现中华民族伟大\n",
      "\n",
      "19、把生态文明建设纳入中国特色社会主义事业五位一体总体布局的会议是（党的十八大）。\n",
      "\n",
      "20、根据《中华人民共和国法官法》的规定，在我国，法官的任职条件中关于最低年龄要求是（年满23周岁）。\n",
      "\n"
     ]
    }
   ],
   "source": [
    "text = input(\"请输入您要查找的题目：\")\n",
    "print()\n",
    "url_text = quote(text)\n",
    "rsp = requests.get('https://qiangguoshuo.com/search.php?q={}'.format(url_text))\n",
    "bs = BeautifulSoup(rsp.text,'html.parser', from_encoding='utf-8')\n",
    "data_len = len(list(list(bs.find_all(class_='list'))[0]))\n",
    "print(\"匹配题目个数：\",data_len, '\\n')\n",
    "j = 1\n",
    "for i in range(data_len):\n",
    "    if i%2 != 0:\n",
    "        print(str(j)+'、'+list(list(bs.find_all(class_='list'))[0])[i].text.split(' ')[-1])\n",
    "        j += 1\n"
   ]
  },
  {
   "cell_type": "code",
   "execution_count": null,
   "metadata": {},
   "outputs": [],
   "source": []
  }
 ],
 "metadata": {
  "kernelspec": {
   "display_name": "Python 3",
   "language": "python",
   "name": "python3"
  },
  "language_info": {
   "codemirror_mode": {
    "name": "ipython",
    "version": 3
   },
   "file_extension": ".py",
   "mimetype": "text/x-python",
   "name": "python",
   "nbconvert_exporter": "python",
   "pygments_lexer": "ipython3",
   "version": "3.7.3"
  },
  "toc": {
   "base_numbering": 1,
   "nav_menu": {},
   "number_sections": true,
   "sideBar": true,
   "skip_h1_title": false,
   "title_cell": "Table of Contents",
   "title_sidebar": "Contents",
   "toc_cell": false,
   "toc_position": {},
   "toc_section_display": true,
   "toc_window_display": false
  }
 },
 "nbformat": 4,
 "nbformat_minor": 2
}
